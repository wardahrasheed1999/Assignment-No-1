{
 "cells": [
  {
   "cell_type": "code",
   "execution_count": 3,
   "id": "ff23d4a1",
   "metadata": {},
   "outputs": [
    {
     "name": "stdout",
     "output_type": "stream",
     "text": [
      "\t Twinkle Twinkle,little star,\n",
      "\t\t How I wonder, what you are!\n",
      "\t\t\t Up above the world so high,\n",
      "\t\t\t Like a diamond in the sky,\n",
      "\t Twinkle Twinkle,little star,\n",
      "\t\t How I wonder, what you are!\n",
      "\n"
     ]
    }
   ],
   "source": [
    "#1. write the program to print the followingstring in a specific format (see the output)\n",
    "print('\\t Twinkle Twinkle,little star,\\n'\n",
    "      '\\t\\t How I wonder, what you are!\\n'\n",
    "      '\\t\\t\\t Up above the world so high,\\n'\n",
    "      '\\t\\t\\t Like a diamond in the sky,\\n'\n",
    "      '\\t Twinkle Twinkle,little star,\\n'\n",
    "      '\\t\\t How I wonder, what you are!\\n')"
   ]
  },
  {
   "cell_type": "code",
   "execution_count": 4,
   "id": "530722b1",
   "metadata": {},
   "outputs": [
    {
     "name": "stdout",
     "output_type": "stream",
     "text": [
      "3.9.7 (default, Sep 16 2021, 16:59:28) [MSC v.1916 64 bit (AMD64)]\n"
     ]
    }
   ],
   "source": [
    "#2.Write a python program to get the Python version you are using.\n",
    "import sys\n",
    "print(sys.version)"
   ]
  },
  {
   "cell_type": "code",
   "execution_count": 5,
   "id": "b3eac86e",
   "metadata": {},
   "outputs": [
    {
     "name": "stdout",
     "output_type": "stream",
     "text": [
      "Current date and time : \n",
      "11-01-2022 00:16:19\n"
     ]
    }
   ],
   "source": [
    "#3.Write a python program to display the current date and time.\n",
    "import datetime\n",
    "now = datetime.datetime.now()\n",
    "print (\"Current date and time : \")\n",
    "print (now.strftime(\"%d-%m-%Y %H:%M:%S\"))"
   ]
  },
  {
   "cell_type": "code",
   "execution_count": 6,
   "id": "42a03b8e",
   "metadata": {},
   "outputs": [
    {
     "name": "stdout",
     "output_type": "stream",
     "text": [
      "Input the radius of the circle : 99\n",
      "The area of the circle with radius 99.0 is: 30790.74959783356\n"
     ]
    }
   ],
   "source": [
    "#4.Write a python program which accepts the radius of a circle from the user and compute the area.\n",
    "from math import pi\n",
    "r = float(input (\"Input the radius of the circle : \"))\n",
    "print (\"The area of the circle with radius \" + str(r) + \" is: \" + str(pi * r**2))"
   ]
  },
  {
   "cell_type": "code",
   "execution_count": 11,
   "id": "851d32b4",
   "metadata": {},
   "outputs": [
    {
     "name": "stdout",
     "output_type": "stream",
     "text": [
      "Input your First Name : Wardah\n",
      "Input your Last Name : Rasheed\n",
      "Hello Rasheed Wardah\n"
     ]
    }
   ],
   "source": [
    "#5.Write a python program which accepts the user's first and last name and print them in reverse order with a space betwwen them.\n",
    "fname = input(\"Input your First Name : \")\n",
    "lname = input(\"Input your Last Name : \")\n",
    "print(f\"Hello {lname} {fname}\")"
   ]
  },
  {
   "cell_type": "code",
   "execution_count": 12,
   "id": "8550dcbd",
   "metadata": {},
   "outputs": [
    {
     "name": "stdout",
     "output_type": "stream",
     "text": [
      "Enter first number:33\n",
      "Enter second number:45\n",
      "78\n"
     ]
    }
   ],
   "source": [
    "#6.Write a python program that takes two input and print them in addition.\n",
    "a = int(input(\"Enter first number:\"))\n",
    "b = int(input(\"Enter second number:\"))\n",
    "sum = a+b\n",
    "print(sum)"
   ]
  },
  {
   "cell_type": "code",
   "execution_count": null,
   "id": "3f9fe4b3",
   "metadata": {},
   "outputs": [],
   "source": []
  }
 ],
 "metadata": {
  "kernelspec": {
   "display_name": "Python 3 (ipykernel)",
   "language": "python",
   "name": "python3"
  },
  "language_info": {
   "codemirror_mode": {
    "name": "ipython",
    "version": 3
   },
   "file_extension": ".py",
   "mimetype": "text/x-python",
   "name": "python",
   "nbconvert_exporter": "python",
   "pygments_lexer": "ipython3",
   "version": "3.9.7"
  }
 },
 "nbformat": 4,
 "nbformat_minor": 5
}
